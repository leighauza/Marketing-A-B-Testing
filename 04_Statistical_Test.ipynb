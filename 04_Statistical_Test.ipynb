{
 "cells": [
  {
   "cell_type": "code",
   "execution_count": 10,
   "metadata": {},
   "outputs": [
    {
     "name": "stdout",
     "output_type": "stream",
     "text": [
      "\n",
      "Chi-squared test for test group vs. converted:\n",
      "Chi-squared value: 54.005823883685245\n",
      "p-value: 1.9989623063390075e-13\n",
      "The difference in conversion rates across test group is statistically signficant.\n",
      "\n",
      "Chi-squared test for most ads day vs. converted:\n",
      "Chi-squared value: 410.0478857936585\n",
      "p-value: 1.932184379244731e-85\n",
      "The difference in conversion rates across most ads day is statistically signficant.\n",
      "\n",
      "Chi-squared test for most ads hour vs. converted:\n",
      "Chi-squared value: 430.76869230822086\n",
      "p-value: 8.027629823696771e-77\n",
      "The difference in conversion rates across most ads hour is statistically signficant.\n"
     ]
    }
   ],
   "source": [
    "# Import Libraries\n",
    "import numpy as np\n",
    "import pandas as pd\n",
    "import matplotlib.pyplot as plt\n",
    "import seaborn as sns\n",
    "\n",
    "# Loads and Views Dataset \n",
    "df = pd.read_csv('marketing_AB.csv')\n",
    "\n",
    "# Data Preparation\n",
    "from scipy.stats import chi2_contingency\n",
    "alpha = 0.05\n",
    "\n",
    "# Test\n",
    "for variable in df_category.columns:\n",
    "  if variable != 'converted':\n",
    "    # Create contingency table\n",
    "    contingency_table = pd.crosstab(df_category[variable], df_category['converted'])\n",
    "\n",
    "    # Perform chi-squared test\n",
    "    chi2, p, _, _ = chi2_contingency(contingency_table)\n",
    "\n",
    "    # Display results\n",
    "    print(f\"\\nChi-squared test for {variable} vs. converted:\")\n",
    "    print(f\"Chi-squared value: {chi2}\")\n",
    "    print(f\"p-value: {p}\")\n",
    "\n",
    "    # Check for significance\n",
    "    if p < alpha:\n",
    "      print(f\"The difference in conversion rates across {variable} is statistically signficant.\")\n",
    "    else:\n",
    "      print(f\"There is no significant difference in conversion rates across {variable}.\")\n"
   ]
  },
  {
   "cell_type": "code",
   "execution_count": 12,
   "metadata": {},
   "outputs": [
    {
     "name": "stdout",
     "output_type": "stream",
     "text": [
      "D'Agostino's test for normality (True group): p-value = 0.0\n",
      "D'Agostino's test for normality (False group): p-value = 0.0\n",
      "Mann-Whitney U Test: p-value = 0.0\n"
     ]
    }
   ],
   "source": [
    "# Import Libraries\n",
    "import numpy as np\n",
    "import pandas as pd\n",
    "import matplotlib.pyplot as plt\n",
    "import seaborn as sns\n",
    "from scipy.stats import normaltest, levene, ttest_ind, mannwhitneyu\n",
    "\n",
    "# Load and View Dataset \n",
    "df = pd.read_csv('marketing_AB.csv')\n",
    "df.head()\n",
    "\n",
    "# Check duplicates\n",
    "df.duplicated(subset='user id').sum()\n",
    "\n",
    "# Drop unwanted columns\n",
    "df.drop([\"Unnamed: 0\", \"user id\"], axis=1, inplace=True)\n",
    "df.columns\n",
    "\n",
    "# Check categorical data\n",
    "df_category = df[['test group', 'converted', 'most ads day', 'most ads hour']]\n",
    "df_category.nunique()\n",
    "\n",
    "# Step 1: Check Assumptions\n",
    "# Normality Assumption (Using D'Agostino's K-squared test)\n",
    "dagostino_stat_true, dagostino_p_value_true = normaltest(df[df['converted'] == True]['total ads'])\n",
    "dagostino_stat_false, dagostino_p_value_false = normaltest(df[df['converted'] == False]['total ads'])\n",
    "\n",
    "print(f\"D'Agostino's test for normality (True group): p-value = {dagostino_p_value_true}\")\n",
    "print(f\"D'Agostino's test for normality (False group): p-value = {dagostino_p_value_false}\")\n",
    "\n",
    "# Step 2: Perform a Suitable Test\n",
    "alpha = 0.05\n",
    "\n",
    "if dagostino_p_value_true > alpha and dagostino_p_value_false > alpha:\n",
    "    # Assumptions met - use t-test for means\n",
    "    t_stat, t_p_value = ttest_ind(df[df['converted']]['total ads'], df[~df['converted']]['total ads'])\n",
    "    print(f\"Independent two-sample t-test: p-value = {t_p_value}\")\n",
    "else:\n",
    "    # Assumptions not met - use MannWhitney U test for medians\n",
    "    u_stat, u_p_value = mannwhitneyu(df[df['converted']]['total ads'], df[~df['converted']]['total ads'])\n",
    "    print(f\"Mann-Whitney U Test: p-value = {u_p_value}\")\n"
   ]
  }
 ],
 "metadata": {
  "kernelspec": {
   "display_name": "myenv",
   "language": "python",
   "name": "python3"
  },
  "language_info": {
   "codemirror_mode": {
    "name": "ipython",
    "version": 3
   },
   "file_extension": ".py",
   "mimetype": "text/x-python",
   "name": "python",
   "nbconvert_exporter": "python",
   "pygments_lexer": "ipython3",
   "version": "3.11.11"
  }
 },
 "nbformat": 4,
 "nbformat_minor": 2
}
